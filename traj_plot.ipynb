{
 "cells": [
  {
   "cell_type": "code",
   "execution_count": 44,
   "id": "b8bc2f32-0da1-4657-97cb-290296b70683",
   "metadata": {},
   "outputs": [],
   "source": [
    "import numpy as np\n",
    "import matplotlib.pyplot as plt\n",
    "from matplotlib import animation"
   ]
  },
  {
   "cell_type": "code",
   "execution_count": 45,
   "id": "3d12f4f4-31cb-4e2b-afa2-02c32237b4e5",
   "metadata": {},
   "outputs": [],
   "source": [
    "# Load decoder output\n",
    "output_traj = np.load('saved_results/decoder_result/_springsLight5output.npy')\n",
    "target_traj = np.load('saved_results/decoder_result/_springsLight5target.npy')\n",
    "\n",
    "# Set the simulation index as 4, batch index as 4. You can use other trials. \n",
    "traj = output_traj[4,4,:,:,:]\n",
    "\n",
    "fig, ax = plt.subplots()\n",
    "ax.set(xlim=(-0.5,0.5), ylim=(-0.5, 0.5))\n",
    "\n",
    "line1, = ax.plot([], [], lw=2)\n",
    "line2, = ax.plot([], [], lw=2)\n",
    "line3, = ax.plot([], [], lw=2)\n",
    "line4, = ax.plot([], [], lw=2)\n",
    "line5, = ax.plot([], [], lw=2)\n",
    "\n",
    "def animate(time_index):\n",
    "    line1.set_data(traj[0,:time_index,0], traj[0,:time_index,1])\n",
    "    line2.set_data(traj[1,:time_index,0], traj[1,:time_index,1])\n",
    "    line3.set_data(traj[2,:time_index,0], traj[2,:time_index,1])\n",
    "    line4.set_data(traj[3,:time_index,0], traj[3,:time_index,1])\n",
    "    line5.set_data(traj[4,:time_index,0], traj[4,:time_index,1])\n",
    "    return line1,line2,line3,line4,line5\n",
    "\n",
    "anim = animation.FuncAnimation(fig, animate, frames = target_traj.shape[-2],interval=100)\n",
    "anim.save(\"demo_model_out.gif\", writer=\"pillow\", dpi=200)"
   ]
  }
 ],
 "metadata": {
  "kernelspec": {
   "display_name": "default:Python",
   "language": "python",
   "name": "conda-env-default-py"
  },
  "language_info": {
   "codemirror_mode": {
    "name": "ipython",
    "version": 3
   },
   "file_extension": ".py",
   "mimetype": "text/x-python",
   "name": "python",
   "nbconvert_exporter": "python",
   "pygments_lexer": "ipython3",
   "version": "3.9.10"
  }
 },
 "nbformat": 4,
 "nbformat_minor": 5
}
